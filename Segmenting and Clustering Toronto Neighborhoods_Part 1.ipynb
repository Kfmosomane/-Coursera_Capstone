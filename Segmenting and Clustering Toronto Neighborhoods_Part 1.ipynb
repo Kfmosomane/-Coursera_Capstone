{
 "cells": [
  {
   "cell_type": "markdown",
   "metadata": {},
   "source": [
    "# Part 1: Scraping of Data on Toronto Neighborhoods from Wikipedia"
   ]
  },
  {
   "cell_type": "markdown",
   "metadata": {},
   "source": [
    "#### Installing and importing libraries\n"
   ]
  },
  {
   "cell_type": "code",
   "execution_count": 230,
   "metadata": {},
   "outputs": [
    {
     "name": "stdout",
     "output_type": "stream",
     "text": [
      "Requirement already satisfied: bs4 in c:\\users\\kagiso\\anaconda3\\lib\\site-packages (0.0.1)\n",
      "Requirement already satisfied: beautifulsoup4 in c:\\users\\kagiso\\anaconda3\\lib\\site-packages (from bs4) (4.8.2)\n",
      "Requirement already satisfied: soupsieve>=1.2 in c:\\users\\kagiso\\anaconda3\\lib\\site-packages (from beautifulsoup4->bs4) (1.9.5)\n"
     ]
    }
   ],
   "source": [
    "!pip install bs4\n",
    "import pandas as pd\n",
    "import numpy as np\n",
    "import requests\n",
    "from bs4 import BeautifulSoup"
   ]
  },
  {
   "cell_type": "markdown",
   "metadata": {},
   "source": [
    "#### Request web_page and convert it using BS"
   ]
  },
  {
   "cell_type": "code",
   "execution_count": 231,
   "metadata": {},
   "outputs": [],
   "source": [
    "link=\"https://en.wikipedia.org/wiki/List_of_postal_codes_of_Canada:_M\"\n",
    "toronto_wiki = requests.get(link).text\n",
    "\n",
    "toronto_bs=BeautifulSoup(toronto_wiki,\"html5lib\")\n"
   ]
  },
  {
   "cell_type": "markdown",
   "metadata": {},
   "source": [
    "#### Extract the table "
   ]
  },
  {
   "cell_type": "code",
   "execution_count": 232,
   "metadata": {},
   "outputs": [],
   "source": [
    "toronto_table_bs=toronto_bs.find(\"table\")"
   ]
  },
  {
   "cell_type": "markdown",
   "metadata": {},
   "source": [
    "#### Extract data from the table and append to dataframe"
   ]
  },
  {
   "cell_type": "code",
   "execution_count": 242,
   "metadata": {},
   "outputs": [],
   "source": [
    "toronto_neigh_data = pd.DataFrame(columns=[\"Postal Code\", \"Borough\",\"Neighborhood\"])\n",
    "\n",
    "for row in toronto_table_bs.find_all(\"tr\"):\n",
    "    col = row.find_all(\"td\")\n",
    "    \n",
    "    for cell in col:\n",
    "                    \n",
    "            Postal_Code =str(cell.b.string)\n",
    "\n",
    "            rest_of_cell = cell.find_all('a',href=True) \n",
    "                       \n",
    "            Neighborhood=\"\"\n",
    "            Borough = \"\"\n",
    "            \n",
    "            for i,borough_and_neighs in enumerate(rest_of_cell):\n",
    "                \n",
    "                if i == 0:\n",
    "                    Borough =str(borough_and_neighs.string)\n",
    "                    \n",
    "                elif  i==1:\n",
    "                    Neighborhood +=str(borough_and_neighs.string)\n",
    "                \n",
    "                else:\n",
    "                    Neighborhood += \", \" + str(borough_and_neighs.string)\n",
    "            \n",
    "            if Neighborhood==\"\":\n",
    "                    Neighborhood += Borough\n",
    "\n",
    "            toronto_neigh_data = toronto_neigh_data.append({\"Postal Code\":Postal_Code, \"Borough\":Borough, \"Neighborhood\":Neighborhood}, ignore_index=True)\n",
    "    "
   ]
  },
  {
   "cell_type": "markdown",
   "metadata": {},
   "source": [
    "#### Remove empty cells from the dataframe and reset index\n"
   ]
  },
  {
   "cell_type": "code",
   "execution_count": 243,
   "metadata": {},
   "outputs": [],
   "source": [
    "toronto_neigh_data.replace(\"\",np.nan,inplace=True)\n",
    "toronto_neigh_data.dropna(axis=0,inplace=True)\n",
    "toronto_neigh_data.reset_index(drop=True,inplace=True)"
   ]
  },
  {
   "cell_type": "code",
   "execution_count": 244,
   "metadata": {},
   "outputs": [
    {
     "data": {
      "text/html": [
       "<div>\n",
       "<style scoped>\n",
       "    .dataframe tbody tr th:only-of-type {\n",
       "        vertical-align: middle;\n",
       "    }\n",
       "\n",
       "    .dataframe tbody tr th {\n",
       "        vertical-align: top;\n",
       "    }\n",
       "\n",
       "    .dataframe thead th {\n",
       "        text-align: right;\n",
       "    }\n",
       "</style>\n",
       "<table border=\"1\" class=\"dataframe\">\n",
       "  <thead>\n",
       "    <tr style=\"text-align: right;\">\n",
       "      <th></th>\n",
       "      <th>Postal Code</th>\n",
       "      <th>Borough</th>\n",
       "      <th>Neighborhood</th>\n",
       "    </tr>\n",
       "  </thead>\n",
       "  <tbody>\n",
       "    <tr>\n",
       "      <th>0</th>\n",
       "      <td>M3A</td>\n",
       "      <td>North York</td>\n",
       "      <td>Parkwoods</td>\n",
       "    </tr>\n",
       "    <tr>\n",
       "      <th>1</th>\n",
       "      <td>M4A</td>\n",
       "      <td>North York</td>\n",
       "      <td>Victoria Village</td>\n",
       "    </tr>\n",
       "    <tr>\n",
       "      <th>2</th>\n",
       "      <td>M5A</td>\n",
       "      <td>Downtown Toronto</td>\n",
       "      <td>Regent Park, Harbourfront</td>\n",
       "    </tr>\n",
       "    <tr>\n",
       "      <th>3</th>\n",
       "      <td>M6A</td>\n",
       "      <td>North York</td>\n",
       "      <td>Lawrence Manor, Lawrence Heights</td>\n",
       "    </tr>\n",
       "    <tr>\n",
       "      <th>4</th>\n",
       "      <td>M7A</td>\n",
       "      <td>Queen's Park</td>\n",
       "      <td>Queen's Park</td>\n",
       "    </tr>\n",
       "    <tr>\n",
       "      <th>5</th>\n",
       "      <td>M9A</td>\n",
       "      <td>Etobicoke</td>\n",
       "      <td>Islington Avenue</td>\n",
       "    </tr>\n",
       "    <tr>\n",
       "      <th>6</th>\n",
       "      <td>M1B</td>\n",
       "      <td>Scarborough</td>\n",
       "      <td>Malvern, Rouge</td>\n",
       "    </tr>\n",
       "    <tr>\n",
       "      <th>7</th>\n",
       "      <td>M3B</td>\n",
       "      <td>North York</td>\n",
       "      <td>Don Mills</td>\n",
       "    </tr>\n",
       "    <tr>\n",
       "      <th>8</th>\n",
       "      <td>M4B</td>\n",
       "      <td>East York</td>\n",
       "      <td>Parkview Hill, Woodbine Gardens</td>\n",
       "    </tr>\n",
       "    <tr>\n",
       "      <th>9</th>\n",
       "      <td>M5B</td>\n",
       "      <td>Downtown Toronto</td>\n",
       "      <td>Garden District, Ryerson</td>\n",
       "    </tr>\n",
       "    <tr>\n",
       "      <th>10</th>\n",
       "      <td>M6B</td>\n",
       "      <td>North York</td>\n",
       "      <td>North York</td>\n",
       "    </tr>\n",
       "    <tr>\n",
       "      <th>11</th>\n",
       "      <td>M9B</td>\n",
       "      <td>Etobicoke</td>\n",
       "      <td>West Deane Park, Princess Gardens, Martin Grov...</td>\n",
       "    </tr>\n",
       "    <tr>\n",
       "      <th>12</th>\n",
       "      <td>M1C</td>\n",
       "      <td>Scarborough</td>\n",
       "      <td>Rouge Hill, Port Union, Highland Creek</td>\n",
       "    </tr>\n",
       "    <tr>\n",
       "      <th>13</th>\n",
       "      <td>M3C</td>\n",
       "      <td>North York</td>\n",
       "      <td>Don Mills, Flemingdon Park</td>\n",
       "    </tr>\n",
       "    <tr>\n",
       "      <th>14</th>\n",
       "      <td>M4C</td>\n",
       "      <td>East York</td>\n",
       "      <td>Woodbine Heights</td>\n",
       "    </tr>\n",
       "    <tr>\n",
       "      <th>15</th>\n",
       "      <td>M5C</td>\n",
       "      <td>Downtown Toronto</td>\n",
       "      <td>St. James Town</td>\n",
       "    </tr>\n",
       "    <tr>\n",
       "      <th>16</th>\n",
       "      <td>M6C</td>\n",
       "      <td>York</td>\n",
       "      <td>Humewood-Cedarvale</td>\n",
       "    </tr>\n",
       "    <tr>\n",
       "      <th>17</th>\n",
       "      <td>M9C</td>\n",
       "      <td>Etobicoke</td>\n",
       "      <td>Markland Wood</td>\n",
       "    </tr>\n",
       "    <tr>\n",
       "      <th>18</th>\n",
       "      <td>M1E</td>\n",
       "      <td>Scarborough</td>\n",
       "      <td>Guildwood, Morningside, West Hill</td>\n",
       "    </tr>\n",
       "    <tr>\n",
       "      <th>19</th>\n",
       "      <td>M4E</td>\n",
       "      <td>The Beaches</td>\n",
       "      <td>The Beaches</td>\n",
       "    </tr>\n",
       "  </tbody>\n",
       "</table>\n",
       "</div>"
      ],
      "text/plain": [
       "   Postal Code           Borough  \\\n",
       "0          M3A        North York   \n",
       "1          M4A        North York   \n",
       "2          M5A  Downtown Toronto   \n",
       "3          M6A        North York   \n",
       "4          M7A      Queen's Park   \n",
       "5          M9A         Etobicoke   \n",
       "6          M1B       Scarborough   \n",
       "7          M3B        North York   \n",
       "8          M4B         East York   \n",
       "9          M5B  Downtown Toronto   \n",
       "10         M6B        North York   \n",
       "11         M9B         Etobicoke   \n",
       "12         M1C       Scarborough   \n",
       "13         M3C        North York   \n",
       "14         M4C         East York   \n",
       "15         M5C  Downtown Toronto   \n",
       "16         M6C              York   \n",
       "17         M9C         Etobicoke   \n",
       "18         M1E       Scarborough   \n",
       "19         M4E       The Beaches   \n",
       "\n",
       "                                         Neighborhood  \n",
       "0                                           Parkwoods  \n",
       "1                                    Victoria Village  \n",
       "2                           Regent Park, Harbourfront  \n",
       "3                    Lawrence Manor, Lawrence Heights  \n",
       "4                                        Queen's Park  \n",
       "5                                    Islington Avenue  \n",
       "6                                      Malvern, Rouge  \n",
       "7                                           Don Mills  \n",
       "8                     Parkview Hill, Woodbine Gardens  \n",
       "9                            Garden District, Ryerson  \n",
       "10                                         North York  \n",
       "11  West Deane Park, Princess Gardens, Martin Grov...  \n",
       "12             Rouge Hill, Port Union, Highland Creek  \n",
       "13                         Don Mills, Flemingdon Park  \n",
       "14                                   Woodbine Heights  \n",
       "15                                     St. James Town  \n",
       "16                                 Humewood-Cedarvale  \n",
       "17                                      Markland Wood  \n",
       "18                  Guildwood, Morningside, West Hill  \n",
       "19                                        The Beaches  "
      ]
     },
     "execution_count": 244,
     "metadata": {},
     "output_type": "execute_result"
    }
   ],
   "source": [
    "toronto_neigh_data.head(20)"
   ]
  },
  {
   "cell_type": "code",
   "execution_count": 245,
   "metadata": {},
   "outputs": [
    {
     "data": {
      "text/plain": [
       "(101, 3)"
      ]
     },
     "execution_count": 245,
     "metadata": {},
     "output_type": "execute_result"
    }
   ],
   "source": [
    "toronto_neigh_data.shape"
   ]
  },
  {
   "cell_type": "code",
   "execution_count": null,
   "metadata": {},
   "outputs": [],
   "source": []
  }
 ],
 "metadata": {
  "kernelspec": {
   "display_name": "Python 3",
   "language": "python",
   "name": "python3"
  },
  "language_info": {
   "codemirror_mode": {
    "name": "ipython",
    "version": 3
   },
   "file_extension": ".py",
   "mimetype": "text/x-python",
   "name": "python",
   "nbconvert_exporter": "python",
   "pygments_lexer": "ipython3",
   "version": "3.7.6"
  }
 },
 "nbformat": 4,
 "nbformat_minor": 4
}
